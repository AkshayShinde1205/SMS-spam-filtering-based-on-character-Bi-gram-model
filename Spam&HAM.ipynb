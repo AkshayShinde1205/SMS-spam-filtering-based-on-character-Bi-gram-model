{
 "cells": [
  {
   "cell_type": "code",
   "execution_count": 5,
   "id": "2c372469",
   "metadata": {},
   "outputs": [],
   "source": [
    "import pandas as pd\n",
    "from sklearn.feature_extraction.text import CountVectorizer\n",
    "from sklearn.model_selection import train_test_split\n",
    "from sklearn.naive_bayes import MultinomialNB\n",
    "from sklearn.metrics import confusion_matrix, classification_report"
   ]
  },
  {
   "cell_type": "code",
   "execution_count": 2,
   "id": "527a8aea",
   "metadata": {},
   "outputs": [],
   "source": [
    "# Function to calculate the sum of diagonal elements in a confusion matrix\n",
    "def diagonal_sum(con_matrix):\n",
    "    return con_matrix.diagonal().sum()"
   ]
  },
  {
   "cell_type": "code",
   "execution_count": 13,
   "id": "104acead",
   "metadata": {},
   "outputs": [
    {
     "data": {
      "text/html": [
       "<div>\n",
       "<style scoped>\n",
       "    .dataframe tbody tr th:only-of-type {\n",
       "        vertical-align: middle;\n",
       "    }\n",
       "\n",
       "    .dataframe tbody tr th {\n",
       "        vertical-align: top;\n",
       "    }\n",
       "\n",
       "    .dataframe thead th {\n",
       "        text-align: right;\n",
       "    }\n",
       "</style>\n",
       "<table border=\"1\" class=\"dataframe\">\n",
       "  <thead>\n",
       "    <tr style=\"text-align: right;\">\n",
       "      <th></th>\n",
       "      <th>label</th>\n",
       "      <th>text</th>\n",
       "    </tr>\n",
       "  </thead>\n",
       "  <tbody>\n",
       "    <tr>\n",
       "      <th>0</th>\n",
       "      <td>ham</td>\n",
       "      <td>Go until jurong point, crazy.. Available only ...</td>\n",
       "    </tr>\n",
       "    <tr>\n",
       "      <th>1</th>\n",
       "      <td>ham</td>\n",
       "      <td>Ok lar... Joking wif u oni...</td>\n",
       "    </tr>\n",
       "    <tr>\n",
       "      <th>2</th>\n",
       "      <td>spam</td>\n",
       "      <td>Free entry in 2 a wkly comp to win FA Cup fina...</td>\n",
       "    </tr>\n",
       "    <tr>\n",
       "      <th>3</th>\n",
       "      <td>ham</td>\n",
       "      <td>U dun say so early hor... U c already then say...</td>\n",
       "    </tr>\n",
       "    <tr>\n",
       "      <th>4</th>\n",
       "      <td>ham</td>\n",
       "      <td>Nah I don't think he goes to usf, he lives aro...</td>\n",
       "    </tr>\n",
       "  </tbody>\n",
       "</table>\n",
       "</div>"
      ],
      "text/plain": [
       "  label                                               text\n",
       "0   ham  Go until jurong point, crazy.. Available only ...\n",
       "1   ham                      Ok lar... Joking wif u oni...\n",
       "2  spam  Free entry in 2 a wkly comp to win FA Cup fina...\n",
       "3   ham  U dun say so early hor... U c already then say...\n",
       "4   ham  Nah I don't think he goes to usf, he lives aro..."
      ]
     },
     "execution_count": 13,
     "metadata": {},
     "output_type": "execute_result"
    }
   ],
   "source": [
    "# Load the UCI SMS Spam Collection dataset\n",
    "data = pd.read_csv('SMSSpamCollection', sep='\\t', names=['label', 'text'])\n",
    "data.head()"
   ]
  },
  {
   "cell_type": "code",
   "execution_count": 14,
   "id": "728387f6",
   "metadata": {},
   "outputs": [
    {
     "name": "stdout",
     "output_type": "stream",
     "text": [
      "      label                                               text\n",
      "0         0  Go until jurong point, crazy.. Available only ...\n",
      "1         0                      Ok lar... Joking wif u oni...\n",
      "2         1  Free entry in 2 a wkly comp to win FA Cup fina...\n",
      "3         0  U dun say so early hor... U c already then say...\n",
      "4         0  Nah I don't think he goes to usf, he lives aro...\n",
      "...     ...                                                ...\n",
      "5567      1  This is the 2nd time we have tried 2 contact u...\n",
      "5568      0               Will ü b going to esplanade fr home?\n",
      "5569      0  Pity, * was in mood for that. So...any other s...\n",
      "5570      0  The guy did some bitching but I acted like i'd...\n",
      "5571      0                         Rofl. Its true to its name\n",
      "\n",
      "[5572 rows x 2 columns]\n"
     ]
    }
   ],
   "source": [
    "# Convert labels to binary (1 for spam, 0 for ham)\n",
    "data['label'] = data['label'].map({'spam': 1, 'ham': 0})\n",
    "print(data)"
   ]
  },
  {
   "cell_type": "code",
   "execution_count": 7,
   "id": "2e8bcb98",
   "metadata": {},
   "outputs": [],
   "source": [
    "# Split the dataset into training and testing sets\n",
    "X_train, X_test, y_train, y_test = train_test_split(data['text'], data['label'], test_size=0.2, random_state=42)"
   ]
  },
  {
   "cell_type": "code",
   "execution_count": 9,
   "id": "85c1db17",
   "metadata": {},
   "outputs": [],
   "source": [
    "# Create character bigram features\n",
    "ngram_range = (2, 2)\n",
    "vectorizer = CountVectorizer(analyzer='char', ngram_range=ngram_range)\n",
    "X_train_matrix = vectorizer.fit_transform(X_train)\n",
    "X_test_matrix = vectorizer.transform(X_test)"
   ]
  },
  {
   "cell_type": "code",
   "execution_count": null,
   "id": "25e6cfa2",
   "metadata": {},
   "outputs": [],
   "source": [
    "# Choose the value for k (smoothing parameter)\n",
    "k_value = 1 "
   ]
  },
  {
   "cell_type": "code",
   "execution_count": null,
   "id": "05850377",
   "metadata": {},
   "outputs": [],
   "source": [
    "# Train a Naive Bayes classifier with Add-k smoothing\n",
    "classifier = MultinomialNB(alpha=k_value)\n",
    "classifier.fit(X_train_matrix, y_train)"
   ]
  },
  {
   "cell_type": "code",
   "execution_count": null,
   "id": "7938c15e",
   "metadata": {},
   "outputs": [],
   "source": [
    "# Make predictions on the test set\n",
    "y_pred = classifier.predict(X_test_matrix)\n",
    "\n",
    "# Calculate confusion matrix\n",
    "conf_matrix = confusion_matrix(y_test, y_pred)\n",
    "\n",
    "# Calculate diagonal sum using the provided function\n",
    "correct_predictions = diagonal_sum(conf_matrix)\n",
    "\n",
    "# Calculate total predictions\n",
    "total_predictions = len(y_test)"
   ]
  },
  {
   "cell_type": "code",
   "execution_count": null,
   "id": "36fa50e0",
   "metadata": {},
   "outputs": [],
   "source": [
    "# Calculate accuracy manually\n",
    "accuracy = correct_predictions / total_predictions\n",
    "\n",
    "# Print accuracy\n",
    "print(f'Manual Accuracy: {accuracy}')\n",
    "\n",
    "# Calculate confusion matrix and classification report\n",
    "print(f'Confusion Matrix:\\n{conf_matrix}')\n",
    "print(f'Classification Report:\\n{classification_report(y_test, y_pred)}')"
   ]
  },
  {
   "cell_type": "code",
   "execution_count": 15,
   "id": "2f5a225d",
   "metadata": {},
   "outputs": [
    {
     "name": "stdout",
     "output_type": "stream",
     "text": [
      "Manual Accuracy: 0.9847533632286996\n",
      "Confusion Matrix:\n",
      "[[958   8]\n",
      " [  9 140]]\n",
      "Classification Report:\n",
      "              precision    recall  f1-score   support\n",
      "\n",
      "           0       0.99      0.99      0.99       966\n",
      "           1       0.95      0.94      0.94       149\n",
      "\n",
      "    accuracy                           0.98      1115\n",
      "   macro avg       0.97      0.97      0.97      1115\n",
      "weighted avg       0.98      0.98      0.98      1115\n",
      "\n"
     ]
    }
   ],
   "source": [
    "#                                        Bigram model\n",
    "\n",
    "import pandas as pd\n",
    "from sklearn.feature_extraction.text import CountVectorizer\n",
    "from sklearn.model_selection import train_test_split\n",
    "from sklearn.naive_bayes import MultinomialNB\n",
    "from sklearn.metrics import confusion_matrix, classification_report\n",
    "\n",
    "# Function to calculate the sum of diagonal elements in a confusion matrix\n",
    "def diagonal_sum(con_matrix):\n",
    "    return con_matrix.diagonal().sum()\n",
    "\n",
    "# Load the UCI SMS Spam Collection dataset\n",
    "data = pd.read_csv('SMSSpamCollection', sep='\\t', names=['label', 'text'])\n",
    "data.head()\n",
    "\n",
    "# Convert labels to binary (1 for spam, 0 for ham)\n",
    "data['label'] = data['label'].map({'spam': 1, 'ham': 0})\n",
    "\n",
    "# Split the dataset into training and testing sets\n",
    "X_train, X_test, y_train, y_test = train_test_split(data['text'], data['label'], test_size=0.2, random_state=42)\n",
    "\n",
    "# Create character bigram features\n",
    "ngram_range = (2, 2)\n",
    "vectorizer = CountVectorizer(analyzer='char', ngram_range=ngram_range)\n",
    "X_train_matrix = vectorizer.fit_transform(X_train)\n",
    "X_test_matrix = vectorizer.transform(X_test)\n",
    "\n",
    "# Choose the value for k (smoothing parameter)\n",
    "k_value = 1  # You can adjust this value as needed\n",
    "\n",
    "# Train a Naive Bayes classifier with Add-k smoothing\n",
    "classifier = MultinomialNB(alpha=k_value)\n",
    "classifier.fit(X_train_matrix, y_train)\n",
    "\n",
    "# Make predictions on the test set\n",
    "y_pred = classifier.predict(X_test_matrix)\n",
    "\n",
    "# Calculate confusion matrix\n",
    "conf_matrix = confusion_matrix(y_test, y_pred)\n",
    "\n",
    "# Calculate diagonal sum using the provided function\n",
    "correct_predictions = diagonal_sum(conf_matrix)\n",
    "\n",
    "# Calculate total predictions\n",
    "total_predictions = len(y_test)\n",
    "\n",
    "# Calculate accuracy manually\n",
    "accuracy = correct_predictions / total_predictions\n",
    "\n",
    "# Print accuracy\n",
    "print(f'Manual Accuracy: {accuracy}')\n",
    "\n",
    "# Calculate confusion matrix and classification report\n",
    "print(f'Confusion Matrix:\\n{conf_matrix}')\n",
    "print(f'Classification Report:\\n{classification_report(y_test, y_pred)}')\n"
   ]
  },
  {
   "cell_type": "code",
   "execution_count": 27,
   "id": "f7b948e7",
   "metadata": {},
   "outputs": [
    {
     "name": "stdout",
     "output_type": "stream",
     "text": [
      "Accuracy of Model is: 0.9856502242152466\n",
      "Confusion Matrix:\n",
      "[[960   6]\n",
      " [ 10 139]]\n",
      "Classification Report:\n",
      "              precision    recall  f1-score   support\n",
      "\n",
      "           0       0.99      0.99      0.99       966\n",
      "           1       0.96      0.93      0.95       149\n",
      "\n",
      "    accuracy                           0.99      1115\n",
      "   macro avg       0.97      0.96      0.97      1115\n",
      "weighted avg       0.99      0.99      0.99      1115\n",
      "\n"
     ]
    }
   ],
   "source": [
    "#                                       Trigram model\n",
    "\n",
    "\n",
    "import pandas as pd\n",
    "from sklearn.feature_extraction.text import CountVectorizer\n",
    "from sklearn.model_selection import train_test_split\n",
    "from sklearn.naive_bayes import MultinomialNB\n",
    "from sklearn.metrics import confusion_matrix, classification_report\n",
    "\n",
    "# Function to calculate the sum of diagonal elements in a confusion matrix\n",
    "def diagonal_sum(con_matrix):\n",
    "    return con_matrix.diagonal().sum()\n",
    "\n",
    "# Load the UCI SMS Spam Collection dataset\n",
    "data = pd.read_csv('SMSSpamCollection', sep='\\t', names=['label', 'text'])\n",
    "\n",
    "# Convert labels to binary (1 for spam, 0 for ham)\n",
    "data['label'] = data['label'].map({'spam': 1, 'ham': 0})\n",
    "\n",
    "# Split the dataset into training and testing sets\n",
    "X_train, X_test, y_train, y_test = train_test_split(data['text'], data['label'], test_size=0.2, random_state=42)\n",
    "\n",
    "# Create character bigram features\n",
    "ngram_range = (2, 4)\n",
    "vectorizer = CountVectorizer(analyzer='char', ngram_range=ngram_range)\n",
    "X_train_matrix = vectorizer.fit_transform(X_train)\n",
    "X_test_matrix = vectorizer.transform(X_test)\n",
    "\n",
    "# Choose the value for k (smoothing parameter)\n",
    "k_value = 1  # You can adjust this value as needed\n",
    "\n",
    "# Train a Naive Bayes classifier with Add-k smoothing\n",
    "classifier = MultinomialNB(alpha=k_value)\n",
    "classifier.fit(X_train_matrix, y_train)\n",
    "\n",
    "# Make predictions on the test set\n",
    "y_pred = classifier.predict(X_test_matrix)\n",
    "\n",
    "# Calculate confusion matrix\n",
    "conf_matrix = confusion_matrix(y_test, y_pred)\n",
    "\n",
    "# Calculate diagonal sum using the provided function\n",
    "correct_predictions = diagonal_sum(conf_matrix)\n",
    "\n",
    "# Calculate total predictions\n",
    "total_predictions = len(y_test)\n",
    "\n",
    "# Calculate accuracy manually\n",
    "accuracy = correct_predictions / total_predictions\n",
    "\n",
    "# Print accuracy\n",
    "print(f'Accuracy of Model is: {accuracy}')\n",
    "\n",
    "# Calculate confusion matrix and classification report\n",
    "print(f'Confusion Matrix:\\n{conf_matrix}')\n",
    "print(f'Classification Report:\\n{classification_report(y_test, y_pred)}')\n"
   ]
  },
  {
   "cell_type": "code",
   "execution_count": null,
   "id": "e4f1bdf9",
   "metadata": {},
   "outputs": [],
   "source": []
  },
  {
   "cell_type": "code",
   "execution_count": null,
   "id": "e28f5ffa",
   "metadata": {},
   "outputs": [],
   "source": []
  }
 ],
 "metadata": {
  "kernelspec": {
   "display_name": "Python 3 (ipykernel)",
   "language": "python",
   "name": "python3"
  },
  "language_info": {
   "codemirror_mode": {
    "name": "ipython",
    "version": 3
   },
   "file_extension": ".py",
   "mimetype": "text/x-python",
   "name": "python",
   "nbconvert_exporter": "python",
   "pygments_lexer": "ipython3",
   "version": "3.11.5"
  }
 },
 "nbformat": 4,
 "nbformat_minor": 5
}
